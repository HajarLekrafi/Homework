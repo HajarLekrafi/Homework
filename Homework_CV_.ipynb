{
  "nbformat": 4,
  "nbformat_minor": 0,
  "metadata": {
    "colab": {
      "provenance": []
    },
    "kernelspec": {
      "name": "python3",
      "display_name": "Python 3"
    },
    "language_info": {
      "name": "python"
    }
  },
  "cells": [
    {
      "cell_type": "markdown",
      "source": [
        "## ***Introduction to Computer Vision***\n",
        "\n",
        "---\n",
        "\n",
        "\n",
        "\n",
        "# ***– Homework –***\n",
        "\n",
        "Hajar Lekrafi 115303"
      ],
      "metadata": {
        "id": "wAhoXOprsvo7"
      }
    },
    {
      "cell_type": "markdown",
      "source": [
        "# ***Importing Libraries***"
      ],
      "metadata": {
        "id": "Fh3LsPDko5HA"
      }
    },
    {
      "cell_type": "code",
      "source": [
        "import tensorflow as tf\n",
        "from tensorflow.keras import datasets, layers, models\n",
        "import numpy as np\n",
        "import matplotlib.pyplot as plt\n",
        "from sklearn.metrics import confusion_matrix, precision_score, recall_score, f1_score, accuracy_score"
      ],
      "metadata": {
        "id": "fCkJYNEJjgFh"
      },
      "execution_count": 2,
      "outputs": []
    },
    {
      "cell_type": "markdown",
      "source": [
        "This code block imports essential libraries for building, training, and evaluating a Convolutional Neural Network (CNN) for image classification. tensorflow and tensorflow.keras provide tools for constructing and training neural networks. numpy handles numerical operations, and matplotlib.pyplot is used for data visualization. The sklearn.metrics module offers functions to calculate performance metrics like confusion matrix, precision, recall, F1 score, and accuracy, which are vital for evaluating the model's effectiveness. These imports collectively enable a comprehensive setup for developing and analyzing the CNN model."
      ],
      "metadata": {
        "id": "rl0JH4lyo_Io"
      }
    },
    {
      "cell_type": "markdown",
      "source": [
        "# ***Loading CIFAR10 Dataset***"
      ],
      "metadata": {
        "id": "1jrLgZTMpHCa"
      }
    },
    {
      "cell_type": "code",
      "source": [
        "(train_images, train_labels), (test_images, test_labels) = datasets.cifar10.load_data()"
      ],
      "metadata": {
        "colab": {
          "base_uri": "https://localhost:8080/"
        },
        "id": "R2mlLGAWjoWC",
        "outputId": "272f2453-846a-4bd3-fb81-0a5fa9dc7552"
      },
      "execution_count": 3,
      "outputs": [
        {
          "output_type": "stream",
          "name": "stdout",
          "text": [
            "Downloading data from https://www.cs.toronto.edu/~kriz/cifar-10-python.tar.gz\n",
            "170498071/170498071 [==============================] - 4s 0us/step\n"
          ]
        }
      ]
    },
    {
      "cell_type": "markdown",
      "source": [
        "This line of code loads the CIFAR-10 dataset, which is a collection of 60,000 32x32 color images in 10 different classes, split into 50,000 training images and 10,000 test images. The `datasets.cifar10.load_data()` function retrieves the data and returns it as four NumPy arrays: `train_images` and `train_labels` for training, and `test_images` and `test_labels` for testing. This dataset is commonly used for training machine learning and computer vision models."
      ],
      "metadata": {
        "id": "ndvjcBM8q00o"
      }
    },
    {
      "cell_type": "markdown",
      "source": [
        "# ***Creating Binary Labels and normalizing Images***"
      ],
      "metadata": {
        "id": "PhAjAMa5pRR0"
      }
    },
    {
      "cell_type": "code",
      "source": [
        "# Define classes that can fly (1) and cannot fly (0)\n",
        "fly_classes = [0, 2]\n",
        "cannot_fly_classes = [1, 3, 4, 5, 6, 7, 8, 9]\n",
        "\n",
        "def binary_label(label):\n",
        "    if label in fly_classes:\n",
        "        return 1\n",
        "    else:\n",
        "        return 0\n",
        "\n",
        "train_labels_binary = np.array([binary_label(label[0]) for label in train_labels])\n",
        "test_labels_binary = np.array([binary_label(label[0]) for label in test_labels])\n",
        "\n",
        "# Normalize images\n",
        "train_images, test_images = train_images / 255.0, test_images / 255.0"
      ],
      "metadata": {
        "id": "jPleHYpcjqFp"
      },
      "execution_count": 12,
      "outputs": []
    },
    {
      "cell_type": "markdown",
      "source": [
        " This code segment prepares data for a binary classification task distinguishing between classes that can fly and those that cannot fly. It starts by defining two lists, fly_classes and cannot_fly_classes, which contain the indices of classes corresponding to entities that can and cannot fly, respectively. The binary_label function then takes a label as input and returns 1 if it belongs to a class that can fly and 0 otherwise. Subsequently, the function is applied to each label in the train_labels and test_labels arrays, generating binary labels for training and testing datasets. Finally, the pixel values of the image data in train_images and test_images are normalized by dividing them by 255.0, ensuring that the values fall within the range [0, 1]. This normalization step is essential for improving the convergence and performance of many machine learning algorithms when working with image data."
      ],
      "metadata": {
        "id": "y-BVQPH8rWCV"
      }
    },
    {
      "cell_type": "markdown",
      "source": [
        "# ***Defining the CNN Architecture:***"
      ],
      "metadata": {
        "id": "xEkzavJkqF9A"
      }
    },
    {
      "cell_type": "code",
      "source": [
        "model = models.Sequential([\n",
        "    layers.Conv2D(32, (3, 3), activation='relu', input_shape=(32, 32, 3)),\n",
        "    layers.MaxPooling2D((2, 2)),\n",
        "    layers.Conv2D(64, (3, 3), activation='relu'),\n",
        "    layers.MaxPooling2D((2, 2)),\n",
        "    layers.Conv2D(64, (3, 3), activation='relu'),\n",
        "    layers.Flatten(),\n",
        "    layers.Dense(64, activation='relu'),\n",
        "    layers.Dense(1, activation='sigmoid')\n",
        "])"
      ],
      "metadata": {
        "id": "AwBWK309j_Mo"
      },
      "execution_count": 6,
      "outputs": []
    },
    {
      "cell_type": "markdown",
      "source": [
        "We define a Convolutional Neural Network (CNN) model using the Keras Sequential API, commonly employed for image classification tasks. The architecture comprises three Convolutional layers, each followed by a MaxPooling layer, which progressively extracts and reduces spatial features from the input images. The ReLU activation function is applied after each convolutional operation, introducing non-linearity and allowing the network to learn complex patterns. Following the convolutional layers, a Flatten layer reshapes the 3D feature maps into a 1D vector, preparing them for input into the fully connected layers. Two Dense layers are then utilized for classification, with the first containing 64 units and the ReLU activation function. Finally, the output layer consists of a single neuron employing a sigmoid activation function, generating a probability score indicating the likelihood of the input image belonging to a particular class. This architecture demonstrates a standard CNN setup, leveraging convolutional and pooling layers for feature extraction and fully connected layers for classification, making it suitable for binary classification tasks."
      ],
      "metadata": {
        "id": "ZvFnXgSnry3X"
      }
    },
    {
      "cell_type": "markdown",
      "source": [
        "# ***Compiling the Model:***"
      ],
      "metadata": {
        "id": "MOJeMWnuqMdW"
      }
    },
    {
      "cell_type": "code",
      "source": [
        "model.compile(optimizer='adam',\n",
        "              loss='binary_crossentropy',\n",
        "              metrics=['accuracy'])"
      ],
      "metadata": {
        "id": "fpdJKh3pkCaK"
      },
      "execution_count": 7,
      "outputs": []
    },
    {
      "cell_type": "markdown",
      "source": [
        "This line compiles the defined model using the Adam optimizer, which is an adaptive learning rate optimization algorithm. The choice of optimizer is crucial for efficient training of neural networks, and Adam is known for its robust performance across various tasks. The loss function specified here is binary_crossentropy, which is commonly used for binary classification problems. This loss function calculates the difference between the predicted probabilities and the true labels, penalizing deviations from the actual class labels. Additionally, the accuracy metric is specified to monitor the performance of the model during training. This metric computes the proportion of correctly classified samples over the total number of samples, providing insight into the model's classification accuracy. Overall, this compilation step configures the model for training by specifying the optimization algorithm, loss function, and evaluation metric."
      ],
      "metadata": {
        "id": "DJOT2P4IsBIU"
      }
    },
    {
      "cell_type": "markdown",
      "source": [
        "# ***Training the Model:***"
      ],
      "metadata": {
        "id": "d7Wu6-yUqQPd"
      }
    },
    {
      "cell_type": "code",
      "source": [
        "history = model.fit(train_images, train_labels_binary, epochs=10,\n",
        "                    validation_data=(test_images, test_labels_binary))"
      ],
      "metadata": {
        "colab": {
          "base_uri": "https://localhost:8080/"
        },
        "id": "teqaEervkFW9",
        "outputId": "db38b507-19db-4798-9773-dfc6a5587972"
      },
      "execution_count": 8,
      "outputs": [
        {
          "output_type": "stream",
          "name": "stdout",
          "text": [
            "Epoch 1/10\n",
            "1563/1563 [==============================] - 91s 57ms/step - loss: 0.4074 - accuracy: 0.8294 - val_loss: 0.3509 - val_accuracy: 0.8544\n",
            "Epoch 2/10\n",
            "1563/1563 [==============================] - 69s 44ms/step - loss: 0.3330 - accuracy: 0.8624 - val_loss: 0.3164 - val_accuracy: 0.8725\n",
            "Epoch 3/10\n",
            "1563/1563 [==============================] - 70s 45ms/step - loss: 0.3013 - accuracy: 0.8785 - val_loss: 0.3069 - val_accuracy: 0.8749\n",
            "Epoch 4/10\n",
            "1563/1563 [==============================] - 68s 44ms/step - loss: 0.2774 - accuracy: 0.8877 - val_loss: 0.2842 - val_accuracy: 0.8860\n",
            "Epoch 5/10\n",
            "1563/1563 [==============================] - 69s 44ms/step - loss: 0.2568 - accuracy: 0.8968 - val_loss: 0.3044 - val_accuracy: 0.8812\n",
            "Epoch 6/10\n",
            "1563/1563 [==============================] - 73s 46ms/step - loss: 0.2375 - accuracy: 0.9055 - val_loss: 0.2712 - val_accuracy: 0.8956\n",
            "Epoch 7/10\n",
            "1563/1563 [==============================] - 70s 45ms/step - loss: 0.2209 - accuracy: 0.9117 - val_loss: 0.3008 - val_accuracy: 0.8885\n",
            "Epoch 8/10\n",
            "1563/1563 [==============================] - 69s 44ms/step - loss: 0.2026 - accuracy: 0.9202 - val_loss: 0.2800 - val_accuracy: 0.8904\n",
            "Epoch 9/10\n",
            "1563/1563 [==============================] - 73s 47ms/step - loss: 0.1845 - accuracy: 0.9274 - val_loss: 0.2829 - val_accuracy: 0.8952\n",
            "Epoch 10/10\n",
            "1563/1563 [==============================] - 67s 43ms/step - loss: 0.1685 - accuracy: 0.9336 - val_loss: 0.2922 - val_accuracy: 0.9001\n"
          ]
        }
      ]
    },
    {
      "cell_type": "markdown",
      "source": [
        "This code snippet trains the compiled model using the `fit` method. It takes the training images (`train_images`) and corresponding binary labels (`train_labels_binary`) as input data. The `epochs` parameter is set to 10, indicating the number of times the entire training dataset will be passed forward and backward through the neural network. During training, the model's performance on the validation data, consisting of `test_images` and `test_labels_binary`, is evaluated after each epoch. This helps monitor the model's generalization ability and detect overfitting. The training history, including loss and accuracy metrics, is stored in the `history` object, which can be used for visualizations and further analysis. Overall, this line of code initiates the training process of the model and captures its performance over multiple epochs."
      ],
      "metadata": {
        "id": "4a_zhoJPsGSu"
      }
    },
    {
      "cell_type": "markdown",
      "source": [
        "# ***Evaluating on Test Data:***"
      ],
      "metadata": {
        "id": "gqSib7tdqaJh"
      }
    },
    {
      "cell_type": "code",
      "source": [
        "test_loss, test_acc = model.evaluate(test_images, test_labels_binary, verbose=2)\n",
        "print(f'Test accuracy: {test_acc}')"
      ],
      "metadata": {
        "colab": {
          "base_uri": "https://localhost:8080/"
        },
        "id": "goaABMZ-kImF",
        "outputId": "a4c45181-d0c4-4b2f-e7cf-8f80f0520ce2"
      },
      "execution_count": 9,
      "outputs": [
        {
          "output_type": "stream",
          "name": "stdout",
          "text": [
            "313/313 - 4s - loss: 0.2922 - accuracy: 0.9001 - 4s/epoch - 13ms/step\n",
            "Test accuracy: 0.9000999927520752\n"
          ]
        }
      ]
    },
    {
      "cell_type": "markdown",
      "source": [
        "The output indicates that the evaluation process took about 4 seconds. The model achieved an accuracy of approximately 90.01% on the test dataset, with a loss of 0.2922. This information reflects the model's performance on unseen data, highlighting its effectiveness in making predictions."
      ],
      "metadata": {
        "id": "4JvibwOdsXh9"
      }
    },
    {
      "cell_type": "markdown",
      "source": [
        "# ***Predicting and Generating Metrics:***"
      ],
      "metadata": {
        "id": "aJ0TrPneqh_5"
      }
    },
    {
      "cell_type": "code",
      "source": [
        "predictions = model.predict(test_images)\n",
        "predictions_binary = (predictions > 0.5).astype(int).flatten()\n",
        "\n",
        "precision = precision_score(test_labels_binary, predictions_binary)\n",
        "recall = recall_score(test_labels_binary, predictions_binary)\n",
        "f1 = f1_score(test_labels_binary, predictions_binary)\n",
        "accuracy = accuracy_score(test_labels_binary, predictions_binary)\n",
        "\n",
        "print(f'Precision: {precision}')\n",
        "print(f'Recall: {recall}')\n",
        "print(f'F1 Score: {f1}')\n",
        "print(f'Accuracy: {accuracy}')"
      ],
      "metadata": {
        "colab": {
          "base_uri": "https://localhost:8080/"
        },
        "id": "6MmwsScVkJdI",
        "outputId": "f3164fca-3a70-407f-91f0-7b4a86877d4d"
      },
      "execution_count": 10,
      "outputs": [
        {
          "output_type": "stream",
          "name": "stdout",
          "text": [
            "313/313 [==============================] - 4s 12ms/step\n",
            "Precision: 0.8122270742358079\n",
            "Recall: 0.651\n",
            "F1 Score: 0.7227310574521233\n",
            "Accuracy: 0.9001\n"
          ]
        }
      ]
    },
    {
      "cell_type": "markdown",
      "source": [
        "The output indicates that the evaluation process took about 4 seconds. The precision of the model, which measures its ability to correctly identify positive predictions, is approximately 81.22%. The recall, which indicates the proportion of actual positives that were correctly identified by the model, is around 65.1%. The F1 score, a harmonic mean of precision and recall, is approximately 72.27%. Lastly, the accuracy of the model on the test dataset remains at approximately 90.01%, indicating its overall effectiveness in making predictions."
      ],
      "metadata": {
        "id": "fYNRrAA5siYT"
      }
    },
    {
      "cell_type": "markdown",
      "source": [
        "# ***Confusion Matrix:***"
      ],
      "metadata": {
        "id": "0ZxtQHmhqpG3"
      }
    },
    {
      "cell_type": "code",
      "source": [
        "cm = confusion_matrix(test_labels_binary, predictions_binary)\n",
        "plt.figure(figsize=(8, 6))\n",
        "plt.imshow(cm, interpolation='nearest', cmap=plt.cm.Blues)\n",
        "plt.title('Confusion Matrix')\n",
        "plt.colorbar()\n",
        "plt.xticks(np.arange(2), ['Cannot Fly', 'Can Fly'], rotation=45)\n",
        "plt.yticks(np.arange(2), ['Cannot Fly', 'Can Fly'])\n",
        "plt.ylabel('True label')\n",
        "plt.xlabel('Predicted label')\n",
        "plt.show()"
      ],
      "metadata": {
        "colab": {
          "base_uri": "https://localhost:8080/",
          "height": 613
        },
        "id": "yPw4TIWzkPra",
        "outputId": "3ec34d92-5a99-4dc8-ec57-a83e1ae2ebb2"
      },
      "execution_count": 11,
      "outputs": [
        {
          "output_type": "display_data",
          "data": {
            "text/plain": [
              "<Figure size 800x600 with 2 Axes>"
            ],
            "image/png": "[encoded data removed]"
          },
          "metadata": {}
        }
      ]
    },
    {
      "cell_type": "markdown",
      "source": [
        "The confusion matrix visualization illustrates the performance of the classification model. The diagonal elements represent the number of correctly classified instances for each class, while off-diagonal elements indicate misclassifications. In this case, the x-axis denotes the predicted labels (Can Fly or Cannot Fly), while the y-axis represents the true labels. The colormap intensity corresponds to the number of instances in each cell, with darker shades indicating higher counts. This visualization provides insights into the model's strengths and weaknesses in classifying between flying and non-flying classes."
      ],
      "metadata": {
        "id": "3TLo_W1msm0s"
      }
    }
  ]
}